{
 "cells": [
  {
   "cell_type": "markdown",
   "metadata": {},
   "source": [
    "* Binary classification problem - who will attrite and who won't. Use Anomaly detection approach\n",
    "    * Logistic reg\n",
    "    * SVM\n",
    "    * LightGBM\n",
    "    * XGBoost\n",
    "    * ANN\n",
    "    * KNN\n",
    "    * Decision trees \n",
    "    * Random forest\n",
    "    * Stacked model\n",
    "\n",
    "* Validation for classification:\n",
    "    * Accuracy rate\n",
    "    * F1\n",
    "    * Vanilla ROC\n",
    "    * CV\n",
    "\n",
    "\n",
    "* Clustering problem - grouping customers based on their attrition risk\n",
    "    * Isolation forest\n",
    "    * HDBSCAN\n",
    "\n",
    "\n",
    "* Feature engineering: \n",
    "    * Add customer group to the dataset coming from the clustering model\n",
    "\n",
    "\n",
    "* Causal inference: \n",
    "    * Is a gold member more likely to attrite than a non-gold member?\n",
    "    * Is length of tenure causing churn?\n",
    "    * How does the number of dependents impact churn rate? \n",
    "    * Uplift tree (classification problem)\n",
    "\n",
    "\n",
    "\n"
   ]
  },
  {
   "cell_type": "markdown",
   "metadata": {},
   "source": []
  }
 ],
 "metadata": {
  "language_info": {
   "name": "python"
  }
 },
 "nbformat": 4,
 "nbformat_minor": 2
}
